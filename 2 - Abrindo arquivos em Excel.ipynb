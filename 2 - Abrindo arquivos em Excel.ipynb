{
 "cells": [
  {
   "cell_type": "code",
   "execution_count": 1,
   "metadata": {},
   "outputs": [],
   "source": [
    "# Importando o pandas\n",
    "import pandas as pd"
   ]
  },
  {
   "cell_type": "code",
   "execution_count": 10,
   "metadata": {},
   "outputs": [
    {
     "data": {
      "text/html": [
       "<div>\n",
       "<style scoped>\n",
       "    .dataframe tbody tr th:only-of-type {\n",
       "        vertical-align: middle;\n",
       "    }\n",
       "\n",
       "    .dataframe tbody tr th {\n",
       "        vertical-align: top;\n",
       "    }\n",
       "\n",
       "    .dataframe thead th {\n",
       "        text-align: right;\n",
       "    }\n",
       "</style>\n",
       "<table border=\"1\" class=\"dataframe\">\n",
       "  <thead>\n",
       "    <tr style=\"text-align: right;\">\n",
       "      <th></th>\n",
       "      <th>,city,area,rooms,bathroom,parking spaces,floor,animal,furniture,hoa,rent amount,property tax,fire insurance,total</th>\n",
       "    </tr>\n",
       "  </thead>\n",
       "  <tbody>\n",
       "    <tr>\n",
       "      <th>0</th>\n",
       "      <td>0,1,240,3,3,4,-,acept,furnished,R$0,\"R$8,000\",...</td>\n",
       "    </tr>\n",
       "    <tr>\n",
       "      <th>1</th>\n",
       "      <td>1,0,64,2,1,1,10,acept,not furnished,R$540,R$82...</td>\n",
       "    </tr>\n",
       "    <tr>\n",
       "      <th>2</th>\n",
       "      <td>2,1,443,5,5,4,3,acept,furnished,\"R$4,172\",\"R$7...</td>\n",
       "    </tr>\n",
       "    <tr>\n",
       "      <th>3</th>\n",
       "      <td>3,1,73,2,2,1,12,acept,not furnished,R$700,\"R$1...</td>\n",
       "    </tr>\n",
       "    <tr>\n",
       "      <th>4</th>\n",
       "      <td>4,1,19,1,1,0,-,not acept,not furnished,R$0,\"R$...</td>\n",
       "    </tr>\n",
       "    <tr>\n",
       "      <th>5</th>\n",
       "      <td>5,1,13,1,1,0,2,acept,not furnished,R$0,\"R$2,20...</td>\n",
       "    </tr>\n",
       "    <tr>\n",
       "      <th>6</th>\n",
       "      <td>6,1,55,1,1,1,2,acept,furnished,\"R$1,950\",\"R$5,...</td>\n",
       "    </tr>\n",
       "    <tr>\n",
       "      <th>7</th>\n",
       "      <td>7,1,55,2,2,1,2,acept,not furnished,R$600,\"R$1,...</td>\n",
       "    </tr>\n",
       "    <tr>\n",
       "      <th>8</th>\n",
       "      <td>8,1,82,3,1,1,3,acept,furnished,R$828,\"R$2,000\"...</td>\n",
       "    </tr>\n",
       "    <tr>\n",
       "      <th>9</th>\n",
       "      <td>9,1,32,1,1,1,16,acept,not furnished,R$533,\"R$2...</td>\n",
       "    </tr>\n",
       "    <tr>\n",
       "      <th>10</th>\n",
       "      <td>10,0,60,1,1,0,6,acept,not furnished,R$480,R$72...</td>\n",
       "    </tr>\n",
       "    <tr>\n",
       "      <th>11</th>\n",
       "      <td>11,0,64,1,2,1,4,acept,furnished,R$406,\"R$1,550...</td>\n",
       "    </tr>\n",
       "    <tr>\n",
       "      <th>12</th>\n",
       "      <td>12,1,20,1,1,0,4,acept,furnished,R$602,\"R$1,800...</td>\n",
       "    </tr>\n",
       "    <tr>\n",
       "      <th>13</th>\n",
       "      <td>13,1,375,4,5,5,1,acept,not furnished,\"R$4,793\"...</td>\n",
       "    </tr>\n",
       "    <tr>\n",
       "      <th>14</th>\n",
       "      <td>14,1,92,2,1,1,7,not acept,furnished,R$690,\"R$3...</td>\n",
       "    </tr>\n",
       "    <tr>\n",
       "      <th>15</th>\n",
       "      <td>15,0,56,2,1,1,1,acept,not furnished,R$345,R$95...</td>\n",
       "    </tr>\n",
       "    <tr>\n",
       "      <th>16</th>\n",
       "      <td>16,0,188,2,3,8,-,acept,not furnished,R$0,\"R$3,...</td>\n",
       "    </tr>\n",
       "    <tr>\n",
       "      <th>17</th>\n",
       "      <td>17,1,100,3,2,1,-,acept,not furnished,R$0,\"R$3,...</td>\n",
       "    </tr>\n",
       "    <tr>\n",
       "      <th>18</th>\n",
       "      <td>18,1,192,3,3,2,13,acept,not furnished,\"R$2,100...</td>\n",
       "    </tr>\n",
       "    <tr>\n",
       "      <th>19</th>\n",
       "      <td>19,1,93,3,2,1,10,acept,not furnished,\"R$1,497\"...</td>\n",
       "    </tr>\n",
       "  </tbody>\n",
       "</table>\n",
       "</div>"
      ],
      "text/plain": [
       "   ,city,area,rooms,bathroom,parking spaces,floor,animal,furniture,hoa,rent amount,property tax,fire insurance,total\n",
       "0   0,1,240,3,3,4,-,acept,furnished,R$0,\"R$8,000\",...                                                               \n",
       "1   1,0,64,2,1,1,10,acept,not furnished,R$540,R$82...                                                               \n",
       "2   2,1,443,5,5,4,3,acept,furnished,\"R$4,172\",\"R$7...                                                               \n",
       "3   3,1,73,2,2,1,12,acept,not furnished,R$700,\"R$1...                                                               \n",
       "4   4,1,19,1,1,0,-,not acept,not furnished,R$0,\"R$...                                                               \n",
       "5   5,1,13,1,1,0,2,acept,not furnished,R$0,\"R$2,20...                                                               \n",
       "6   6,1,55,1,1,1,2,acept,furnished,\"R$1,950\",\"R$5,...                                                               \n",
       "7   7,1,55,2,2,1,2,acept,not furnished,R$600,\"R$1,...                                                               \n",
       "8   8,1,82,3,1,1,3,acept,furnished,R$828,\"R$2,000\"...                                                               \n",
       "9   9,1,32,1,1,1,16,acept,not furnished,R$533,\"R$2...                                                               \n",
       "10  10,0,60,1,1,0,6,acept,not furnished,R$480,R$72...                                                               \n",
       "11  11,0,64,1,2,1,4,acept,furnished,R$406,\"R$1,550...                                                               \n",
       "12  12,1,20,1,1,0,4,acept,furnished,R$602,\"R$1,800...                                                               \n",
       "13  13,1,375,4,5,5,1,acept,not furnished,\"R$4,793\"...                                                               \n",
       "14  14,1,92,2,1,1,7,not acept,furnished,R$690,\"R$3...                                                               \n",
       "15  15,0,56,2,1,1,1,acept,not furnished,R$345,R$95...                                                               \n",
       "16  16,0,188,2,3,8,-,acept,not furnished,R$0,\"R$3,...                                                               \n",
       "17  17,1,100,3,2,1,-,acept,not furnished,R$0,\"R$3,...                                                               \n",
       "18  18,1,192,3,3,2,13,acept,not furnished,\"R$2,100...                                                               \n",
       "19  19,1,93,3,2,1,10,acept,not furnished,\"R$1,497\"...                                                               "
      ]
     },
     "execution_count": 10,
     "metadata": {},
     "output_type": "execute_result"
    }
   ],
   "source": [
    "# Abrindo arquivo Excel\n",
    "df = pd.read_excel(\"houses_to_rent_excel.xlsx\", sep=';')\n",
    "df.head(20)"
   ]
  },
  {
   "cell_type": "code",
   "execution_count": 12,
   "metadata": {},
   "outputs": [
    {
     "data": {
      "text/html": [
       "<div>\n",
       "<style scoped>\n",
       "    .dataframe tbody tr th:only-of-type {\n",
       "        vertical-align: middle;\n",
       "    }\n",
       "\n",
       "    .dataframe tbody tr th {\n",
       "        vertical-align: top;\n",
       "    }\n",
       "\n",
       "    .dataframe thead th {\n",
       "        text-align: right;\n",
       "    }\n",
       "</style>\n",
       "<table border=\"1\" class=\"dataframe\">\n",
       "  <thead>\n",
       "    <tr style=\"text-align: right;\">\n",
       "      <th></th>\n",
       "      <th>NOME</th>\n",
       "      <th>IDADE</th>\n",
       "      <th>CEP</th>\n",
       "      <th>ESTADO</th>\n",
       "    </tr>\n",
       "  </thead>\n",
       "  <tbody>\n",
       "    <tr>\n",
       "      <th>0</th>\n",
       "      <td>Henrique Lima</td>\n",
       "      <td>29</td>\n",
       "      <td>3318089</td>\n",
       "      <td>SP</td>\n",
       "    </tr>\n",
       "    <tr>\n",
       "      <th>1</th>\n",
       "      <td>Luiz</td>\n",
       "      <td>39</td>\n",
       "      <td>339283</td>\n",
       "      <td>RJ</td>\n",
       "    </tr>\n",
       "  </tbody>\n",
       "</table>\n",
       "</div>"
      ],
      "text/plain": [
       "            NOME  IDADE      CEP ESTADO\n",
       "0  Henrique Lima     29  3318089     SP\n",
       "1           Luiz     39   339283     RJ"
      ]
     },
     "execution_count": 12,
     "metadata": {},
     "output_type": "execute_result"
    }
   ],
   "source": [
    "# Especificando qual aba do arquivo abrir\n",
    "df = pd.read_excel(\"houses_to_rent_excel.xlsx\", sheet_name=1)\n",
    "df.head(20)"
   ]
  },
  {
   "cell_type": "code",
   "execution_count": 14,
   "metadata": {},
   "outputs": [],
   "source": [
    "# Verificando os nomes das abas com sheet_names\n",
    "arquivo_excel = pd.ExcelFile(\"houses_to_rent_excel.xlsx\")"
   ]
  },
  {
   "cell_type": "code",
   "execution_count": 15,
   "metadata": {},
   "outputs": [
    {
     "data": {
      "text/plain": [
       "['houses_to_rent', 'Planilha1']"
      ]
     },
     "execution_count": 15,
     "metadata": {},
     "output_type": "execute_result"
    }
   ],
   "source": [
    "arquivo_excel.sheet_names"
   ]
  },
  {
   "cell_type": "code",
   "execution_count": 17,
   "metadata": {},
   "outputs": [
    {
     "data": {
      "text/html": [
       "<div>\n",
       "<style scoped>\n",
       "    .dataframe tbody tr th:only-of-type {\n",
       "        vertical-align: middle;\n",
       "    }\n",
       "\n",
       "    .dataframe tbody tr th {\n",
       "        vertical-align: top;\n",
       "    }\n",
       "\n",
       "    .dataframe thead th {\n",
       "        text-align: right;\n",
       "    }\n",
       "</style>\n",
       "<table border=\"1\" class=\"dataframe\">\n",
       "  <thead>\n",
       "    <tr style=\"text-align: right;\">\n",
       "      <th></th>\n",
       "      <th>NOME</th>\n",
       "      <th>IDADE</th>\n",
       "      <th>CEP</th>\n",
       "      <th>ESTADO</th>\n",
       "    </tr>\n",
       "  </thead>\n",
       "  <tbody>\n",
       "    <tr>\n",
       "      <th>0</th>\n",
       "      <td>Henrique Lima</td>\n",
       "      <td>29</td>\n",
       "      <td>3318089</td>\n",
       "      <td>SP</td>\n",
       "    </tr>\n",
       "    <tr>\n",
       "      <th>1</th>\n",
       "      <td>Luiz</td>\n",
       "      <td>39</td>\n",
       "      <td>339283</td>\n",
       "      <td>RJ</td>\n",
       "    </tr>\n",
       "  </tbody>\n",
       "</table>\n",
       "</div>"
      ],
      "text/plain": [
       "            NOME  IDADE      CEP ESTADO\n",
       "0  Henrique Lima     29  3318089     SP\n",
       "1           Luiz     39   339283     RJ"
      ]
     },
     "execution_count": 17,
     "metadata": {},
     "output_type": "execute_result"
    }
   ],
   "source": [
    "# Usando Parse para selecionar as abas\n",
    "aba1 = arquivo_excel.parse(\"Planilha1\")\n",
    "aba2 = arquivo_excel.parse(\"houses_to_rent\")\n",
    "aba1.head()"
   ]
  },
  {
   "cell_type": "code",
   "execution_count": 18,
   "metadata": {},
   "outputs": [
    {
     "data": {
      "text/html": [
       "<div>\n",
       "<style scoped>\n",
       "    .dataframe tbody tr th:only-of-type {\n",
       "        vertical-align: middle;\n",
       "    }\n",
       "\n",
       "    .dataframe tbody tr th {\n",
       "        vertical-align: top;\n",
       "    }\n",
       "\n",
       "    .dataframe thead th {\n",
       "        text-align: right;\n",
       "    }\n",
       "</style>\n",
       "<table border=\"1\" class=\"dataframe\">\n",
       "  <thead>\n",
       "    <tr style=\"text-align: right;\">\n",
       "      <th></th>\n",
       "      <th>,city,area,rooms,bathroom,parking spaces,floor,animal,furniture,hoa,rent amount,property tax,fire insurance,total</th>\n",
       "    </tr>\n",
       "  </thead>\n",
       "  <tbody>\n",
       "    <tr>\n",
       "      <th>0</th>\n",
       "      <td>0,1,240,3,3,4,-,acept,furnished,R$0,\"R$8,000\",...</td>\n",
       "    </tr>\n",
       "    <tr>\n",
       "      <th>1</th>\n",
       "      <td>1,0,64,2,1,1,10,acept,not furnished,R$540,R$82...</td>\n",
       "    </tr>\n",
       "    <tr>\n",
       "      <th>2</th>\n",
       "      <td>2,1,443,5,5,4,3,acept,furnished,\"R$4,172\",\"R$7...</td>\n",
       "    </tr>\n",
       "    <tr>\n",
       "      <th>3</th>\n",
       "      <td>3,1,73,2,2,1,12,acept,not furnished,R$700,\"R$1...</td>\n",
       "    </tr>\n",
       "    <tr>\n",
       "      <th>4</th>\n",
       "      <td>4,1,19,1,1,0,-,not acept,not furnished,R$0,\"R$...</td>\n",
       "    </tr>\n",
       "  </tbody>\n",
       "</table>\n",
       "</div>"
      ],
      "text/plain": [
       "  ,city,area,rooms,bathroom,parking spaces,floor,animal,furniture,hoa,rent amount,property tax,fire insurance,total\n",
       "0  0,1,240,3,3,4,-,acept,furnished,R$0,\"R$8,000\",...                                                               \n",
       "1  1,0,64,2,1,1,10,acept,not furnished,R$540,R$82...                                                               \n",
       "2  2,1,443,5,5,4,3,acept,furnished,\"R$4,172\",\"R$7...                                                               \n",
       "3  3,1,73,2,2,1,12,acept,not furnished,R$700,\"R$1...                                                               \n",
       "4  4,1,19,1,1,0,-,not acept,not furnished,R$0,\"R$...                                                               "
      ]
     },
     "execution_count": 18,
     "metadata": {},
     "output_type": "execute_result"
    }
   ],
   "source": [
    "aba2.head()"
   ]
  },
  {
   "cell_type": "code",
   "execution_count": null,
   "metadata": {},
   "outputs": [],
   "source": []
  },
  {
   "cell_type": "code",
   "execution_count": null,
   "metadata": {},
   "outputs": [],
   "source": []
  },
  {
   "cell_type": "code",
   "execution_count": null,
   "metadata": {},
   "outputs": [],
   "source": []
  }
 ],
 "metadata": {
  "kernelspec": {
   "display_name": "Python 3",
   "language": "python",
   "name": "python3"
  },
  "language_info": {
   "codemirror_mode": {
    "name": "ipython",
    "version": 3
   },
   "file_extension": ".py",
   "mimetype": "text/x-python",
   "name": "python",
   "nbconvert_exporter": "python",
   "pygments_lexer": "ipython3",
   "version": "3.8.3"
  }
 },
 "nbformat": 4,
 "nbformat_minor": 4
}
